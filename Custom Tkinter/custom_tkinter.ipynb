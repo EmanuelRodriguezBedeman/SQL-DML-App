{
 "cells": [
  {
   "cell_type": "code",
   "execution_count": 26,
   "metadata": {},
   "outputs": [],
   "source": [
    "import customtkinter\n",
    "\n",
    "class EntryFrames(customtkinter.CTkFrame):\n",
    "    def __init__(self, master, labels):\n",
    "        super().__init__(master)\n",
    "\n",
    "        # Object attributes\n",
    "        self.labels = labels\n",
    "        self.entries = []\n",
    "\n",
    "        # Create checkboxes Dynamically\n",
    "        for i, label in enumerate(labels):\n",
    "            label = customtkinter.CTkLabel(self, text=label, fg_color=\"transparent\")\n",
    "            label.grid(row=i, column=0, padx=10, pady=10, sticky=\"w\")\n",
    "            entry = customtkinter.CTkEntry(self)\n",
    "            entry.grid(row=i, column=1, padx=10, pady=10, sticky=\"w\")\n",
    "            self.entries.append(entry)\n",
    "\n",
    "    # Obtains objects values\n",
    "    def get(self):\n",
    "        entries_content = []\n",
    "        for entry in self.entries:\n",
    "            if checkbox.get() == 1:\n",
    "                entries_content.append(entry.get())\n",
    "        return entries_content\n",
    "\n",
    "class App(customtkinter.CTk):\n",
    "    def __init__(self):\n",
    "        super().__init__()\n",
    "        customtkinter.set_default_color_theme(\"blue\")\n",
    "        self.title(\"Testing\")\n",
    "        # self.geometry(\"800x600\")\n",
    "        self.grid_columnconfigure(0, weight=1)\n",
    "        self.grid_rowconfigure(0, weight=1)\n",
    "\n",
    "        # Entries Frame\n",
    "        self.checkbox_frame_1 = EntryFrames(self, labels=[\"ID\", \"Name\", \"Lastname\", \"Adress\", \"Password\", \"Notes\"])\n",
    "        self.checkbox_frame_1.grid(row=1, column=0, padx=20, pady=(0,20), sticky=\"nsw\")\n",
    "\n",
    "app = App()\n",
    "app.mainloop()"
   ]
  }
 ],
 "metadata": {
  "kernelspec": {
   "display_name": "Python 3",
   "language": "python",
   "name": "python3"
  },
  "language_info": {
   "codemirror_mode": {
    "name": "ipython",
    "version": 3
   },
   "file_extension": ".py",
   "mimetype": "text/x-python",
   "name": "python",
   "nbconvert_exporter": "python",
   "pygments_lexer": "ipython3",
   "version": "3.10.11"
  }
 },
 "nbformat": 4,
 "nbformat_minor": 2
}
